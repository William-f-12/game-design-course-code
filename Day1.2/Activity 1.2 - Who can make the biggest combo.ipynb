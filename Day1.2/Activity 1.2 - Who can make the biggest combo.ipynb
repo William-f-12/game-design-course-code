{
 "cells": [
  {
   "cell_type": "markdown",
   "metadata": {},
   "source": [
    "# Supplimental Activity 1.2 - Who Can Make the Biggest Combo??\n",
    "\n",
    "We're going to play with combo attacks like in the lesson this morning, but first there is one more thing we need to learn.\n",
    "\n",
    "Python is a very well supported language, and its open source. This means many other people have already made lots and lots of code to do many useful things. We can use their code with a simple command:\n",
    "\n",
    "`import module`\n",
    "\n",
    "The `import` function allows us to access the objects and methods within the module we're importing using the `.` command. Calling an object or method from an imported module looks like this:\n",
    "\n",
    "`module.object`<br/>\n",
    "`module.method()`\n",
    "\n",
    "You can also give a module a knickname when you import it. That looks like this:\n",
    "\n",
    "`import module as carl`\n",
    "\n",
    "Now, to call and object or method from the module, I use the nickname instead of the module name:\n",
    "\n",
    "`carl.object`<br/>\n",
    "`carl.method()`\n",
    "\n",
    "Lastly, we can input specific objects or functions from a module by using the following syntax:\n",
    "\n",
    "`from module import object, function`\n",
    "\n",
    "We'll learn about the differences between these later, but first, we will be using import to carry out today's activity. We will be importing a module I made for today's activity called `comboActivity` and creating a `combo_tester` instance of the ComboActivity object. The import statement is below:"
   ]
  },
  {
   "cell_type": "code",
   "execution_count": 3,
   "metadata": {},
   "outputs": [],
   "source": [
    "#Execute this line of code first\n",
    "from _src.comboActivity import ComboActivity #you may decide to give this module a nickname if you'd like\n",
    "combo_tester = ComboActivity()"
   ]
  },
  {
   "source": [
    "**IMPORTANT:** Do not open the `comboActivity` module (comboActivity.py) unless you like spoilers and hate learning and fun."
   ],
   "cell_type": "markdown",
   "metadata": {}
  },
  {
   "cell_type": "markdown",
   "metadata": {},
   "source": [
    "## Making Your Combos\n",
    "\n",
    "We're going to see who can put together the best combo attacks for a Swordsman, an Archer, and a Wizard. We've imported the module necessary to execute todays activity. It contains 3 tuples with possible attacks. They are called:\n",
    "\n",
    "1. `swordsmanAttacks`\n",
    "2. `archerAttacks`\n",
    "3. `wizardAttacks`\n",
    "\n",
    "Your job is to figure out what kinds of attacks a swordsman, archer, and wizard can perform, then combine these attacks into combos no bigger than 5 attacks long.\n",
    "\n",
    "Once you've made a combo, test it out on the Practice Dummy. To test your combos, put them into the parenthesis of `comboActivity.practice_dummy()`\n",
    "\n",
    "<img src = \"./ArtAssets2/practiceDummy.png\" width = 400>\n",
    "\n",
    "If you put in a bad combo, the code will tell you what you did wrong. If you get an error, ask the TA for help.\n",
    "\n",
    "At the end, when you are satisfied that your combos do the most damage possible, save them into a dictionary variable of your name, and the keys `\"swordsman_combo\"`, `\"archer)combo\"`, `\"wizard_combo\"`.\n",
    "\n",
    "Before class tomorrow, we will test to see who's combo does the most damage!\n",
    "\n",
    "Good luck!"
   ]
  },
  {
   "cell_type": "code",
   "execution_count": 22,
   "metadata": {},
   "outputs": [
    {
     "output_type": "stream",
     "name": "stdout",
     "text": [
      "['slash', 'thrust', 'feint', 'swing', 'chop']\nYour sword combo did 8 damage!\nYour sword combo did 15 damage!\nYour sword combo did 0 damage!\nYour sword combo did 10 damage!\nYour sword combo did 5 damage!\n['single shot', 'poison shot', 'snap shot', 'double shot', 'aim']\nYour bow combo did 8 damage!\nYour bow combo did 6 damage!\nYour bow combo did 6 damage!\nYour bow combo did 15 damage!\nYour bow combo did 0 damage!\n['fireball', 'ice lance', 'lightning bolt', 'meditate', 'cripple']\nYour spell combo did 12 damage!\nYour spell combo did 8 damage!\nYour spell combo did 8 damage!\nYour spell combo did 0 damage!\nYour spell combo did 4 damage!\n"
     ]
    }
   ],
   "source": [
    "example_combo = [combo_tester.swordsman_attacks[0]]\n",
    "#Create your combos here\n",
    "\n",
    "# get swordsman's attacks and damage value\n",
    "print(combo_tester.swordsman_attacks)\n",
    "for skill in combo_tester.swordsman_attacks:\n",
    "    combo_tester.practice_dummy([skill])\n",
    "# get archer's attacks and damage value\n",
    "print(combo_tester.archer_attacks)\n",
    "for skill in combo_tester.archer_attacks:\n",
    "    combo_tester.practice_dummy([skill])\n",
    "# get wizard's attacks and damage value\n",
    "print(combo_tester.wizard_attacks)\n",
    "for skill in combo_tester.wizard_attacks:\n",
    "    combo_tester.practice_dummy([skill])\n",
    "\n",
    "# my combos:\n",
    "William = {\"swordsman_combo\": ['thrust', 'feint', 'thrust', 'feint', 'thrust'],\n",
    "           \"archer_combo\": ['double shot', 'double shot', 'double shot', 'double shot', 'double shot'],\n",
    "           \"wizard_combo\": ['fireball', 'fireball', 'fireball', 'fireball', 'fireball']}"
   ]
  },
  {
   "cell_type": "code",
   "execution_count": 23,
   "metadata": {},
   "outputs": [
    {
     "output_type": "stream",
     "name": "stdout",
     "text": [
      "Your sword combo did 75 damage!\nYour bow combo did 75 damage!\nYour spell combo did 60 damage!\n"
     ]
    }
   ],
   "source": [
    "#Instert your combos into the parenthesis below\n",
    "for my_combo in William.values():\n",
    "    combo_tester.practice_dummy(my_combo)"
   ]
  }
 ],
 "metadata": {
  "kernelspec": {
   "name": "python3",
   "display_name": "Python 3.6.13 64-bit ('python36': conda)"
  },
  "language_info": {
   "codemirror_mode": {
    "name": "ipython",
    "version": 3
   },
   "file_extension": ".py",
   "mimetype": "text/x-python",
   "name": "python",
   "nbconvert_exporter": "python",
   "pygments_lexer": "ipython3",
   "version": "3.6.13"
  },
  "interpreter": {
   "hash": "6896b6810f0434f523ab301569fd0c406227119d8ebfa146f2046138130569ea"
  }
 },
 "nbformat": 4,
 "nbformat_minor": 2
}